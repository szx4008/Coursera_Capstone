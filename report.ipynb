{
 "cells": [
  {
   "cell_type": "markdown",
   "metadata": {},
   "source": [
    "# Fin project- where is a new restaurant good location in Toronto?"
   ]
  },
  {
   "cell_type": "markdown",
   "metadata": {},
   "source": [
    "## 1.introduction"
   ]
  },
  {
   "cell_type": "markdown",
   "metadata": {},
   "source": [
    "### 1.1 background"
   ]
  },
  {
   "cell_type": "markdown",
   "metadata": {},
   "source": [
    "A virtual event: Our boss, an adventurer, wants to expend his restaurant business to Toronto. If he asks us to determine the best place to open a new restaurant, how can we do this project? We would find that because of the covid-19, it is hard to go to the city Toronto to do field trip. What we can do is doing research with online database. We must use limited data to generate a reliable conclusion."
   ]
  },
  {
   "cell_type": "markdown",
   "metadata": {},
   "source": [
    "### 1.2 problem"
   ]
  },
  {
   "cell_type": "markdown",
   "metadata": {},
   "source": [
    "The main problem of the report is how to collect accurate information from the Internet and draw a convincing conclusion. On the one hand, there are many and complex data on the Internet, and not all data can be used directly. On the other hand, we need to show the boss the most intuitive analysis results and convince him, so the choice of our analysis method is very important."
   ]
  },
  {
   "cell_type": "markdown",
   "metadata": {},
   "source": [
    "## 2.Data"
   ]
  },
  {
   "cell_type": "markdown",
   "metadata": {},
   "source": [
    "### 2.1 Data sources"
   ]
  },
  {
   "cell_type": "markdown",
   "metadata": {},
   "source": [
    "The main data I will use is the Foursquare location data. The world’s top companies and more than 150,000 registered developers rely on Foursquare to power geo-tagging, venue search and more in their apps. The Places API offers real-time access to Foursquare’s global database of rich venue data and user content to power your location-based experiences in your app or website. With Places Database, we can access precise, up-to-date community-sourced venue data. The large selection of rich and firmographic location data unlocks the potential to enhance our report with the ability to describe locations, analyze trends.  \n",
    "  \n",
    "What we rely on is map visualization and frequency data. Map visualization can help us find the range of good location for restaurant. Frequency data can help us find which type of restaurant is the favorite of the local."
   ]
  },
  {
   "cell_type": "markdown",
   "metadata": {},
   "source": [
    "### 2.2 Feature selection"
   ]
  },
  {
   "cell_type": "markdown",
   "metadata": {},
   "source": [
    "The variables we fucus on are Neighborhood and Venue Category. We want to understand the connection between two variables and perform quantitative statistical analysis between them."
   ]
  },
  {
   "cell_type": "markdown",
   "metadata": {},
   "source": [
    "## 3.Methodology"
   ]
  },
  {
   "cell_type": "markdown",
   "metadata": {},
   "source": [
    "We did not choose very complex data analysis tools, such as support vector machines. We chose the simplest analysis method-graphical analysis.  \n",
    "  \n",
    "The theory of our choice is the agglomeration effect. The agglomeration effect refers to the economic effect produced by the spatial concentration of various industries and economic activities and the centripetal force that attracts economic activities to a certain area, which is the basic factor leading to the formation and continuous expansion of cities. The agglomeration effect is a common economic phenomenon, such as the agglomeration effect of industries. The most typical example is the US Silicon Valley, where dozens of global IT giants and countless small and medium high-tech companies have gathered. In Zhejiang, industries such as small household appliances, shoemaking, clothing, button making, and lighters are all concentrated in specific areas, forming a regionally concentrated manufacturing layout. The catering industry is likely to follow this trend. Human flow is a limited resource. This resource is often concentrated in urban areas where the catering industry is developed.  \n",
    "  \n",
    "We need to find the area where the restaurant gathers and determine the most suitable location through the clustering effect. By marking all the restaurants in Toronto on the map (Figure 1), we can intuitively find that most of the restaurants are concentrated in the southeast of the city."
   ]
  },
  {
   "cell_type": "markdown",
   "metadata": {},
   "source": [
    "![Alt text](https://s1.ax1x.com/2020/09/05/wEo5GQ.png \"optional title\")"
   ]
  },
  {
   "cell_type": "markdown",
   "metadata": {},
   "source": [
    "If you use bubble graphics to label, the conclusion will be more obvious. The size and color depth of the red bubbles are positively correlated with the number of restaurants in the area. We can clearly see that the seaside south of Toronto is the most concentrated area of catering."
   ]
  },
  {
   "cell_type": "markdown",
   "metadata": {},
   "source": [
    "![Alt text](https://s1.ax1x.com/2020/09/05/wEoeuq.png \"optional title\")"
   ]
  },
  {
   "cell_type": "markdown",
   "metadata": {},
   "source": [
    "If you zoom in on the graph, we can find that the restaurants are distributed near the university and across from Union Station. In order to simplify our analysis process, we only select the three most concentrated red circles as our analysis objects."
   ]
  },
  {
   "cell_type": "markdown",
   "metadata": {},
   "source": [
    "![Alt text](https://s1.ax1x.com/2020/09/05/wEo829.png \"optional title\")"
   ]
  },
  {
   "cell_type": "markdown",
   "metadata": {},
   "source": [
    "Our choice sections:  \n",
    "First Canadian Place, Underground city (restaurants number: 30)  \n",
    "Commerce Court, Victoria Hotel (restaurants number: 28)  \n",
    "Toronto Dominion Centre, Design Exchange (restaurants number: 26)  "
   ]
  },
  {
   "cell_type": "markdown",
   "metadata": {},
   "source": [
    "Next, we counted the ten most popular dining types in Toronto. Since these types of dining can be widely distributed, they must be loved by Toronto residents. We count the types of food and beverages that already exist in the three regions. If there are types of food that have not been opened, it will be a good choice for our new restaurant."
   ]
  },
  {
   "cell_type": "markdown",
   "metadata": {},
   "source": [
    "|  Neighborhood   | Venue Category  |\n",
    "|  ----  | ----  |\n",
    "| The top 10  | 'Restaurant(uncategoried)', 'Italian Restaurant', 'Japanese Restaurant', 'Sushi Restaurant', 'Seafood Restaurant', 'American Restaurant', 'Vegetarian / Vegan Restaurant', 'Thai Restaurant', 'Asian Restaurant', 'Greek Restaurant' |\n",
    "| First Canadian Place, Underground city  | 'Japanese Restaurant', 'Restaurant', 'Asian Restaurant', 'Seafood Restaurant', 'American Restaurant', 'Sushi Restaurant', 'Colombian Restaurant', 'Italian Restaurant', 'Latin American Restaurant', 'Mediterranean Restaurant', 'Gluten-free Restaurant', 'Greek Restaurant', 'Vegetarian / Vegan Restaurant', 'Brazilian Restaurant', 'Fast Food Restaurant', 'Thai Restaurant', 'New American Restaurant' |\n",
    "| Commerce Court, Victoria Hotel  | 'Restaurant', 'American Restaurant', 'Seafood Restaurant', 'Japanese Restaurant', 'Vegetarian / Vegan Restaurant', 'Italian Restaurant', 'Asian Restaurant', 'Latin American Restaurant', 'Thai Restaurant', 'Gluten-free Restaurant', 'French Restaurant', 'New American Restaurant' |\n",
    "| Toronto Dominion Centre, Design Exchange  | 'Restaurant', 'Seafood Restaurant', 'Japanese Restaurant', 'American Restaurant', 'Italian Restaurant', 'Asian Restaurant', 'Sushi Restaurant', 'New American Restaurant', 'Greek Restaurant', 'Vegetarian / Vegan Restaurant', 'Fast Food Restaurant', 'Chinese Restaurant', 'French Restaurant', 'Gluten-free Restaurant' |"
   ]
  },
  {
   "cell_type": "markdown",
   "metadata": {},
   "source": [
    "## 4.Result"
   ]
  },
  {
   "cell_type": "markdown",
   "metadata": {},
   "source": [
    "The good choice is Sushi Restaurant or Greek Restaurant in Commerce Court, Victoria Hotel, or Thai Restaurant in Toronto Dominion Centre, Design Exchange. These choices have a high probability of success."
   ]
  },
  {
   "cell_type": "markdown",
   "metadata": {},
   "source": [
    "## 5.Discussion"
   ]
  },
  {
   "cell_type": "markdown",
   "metadata": {},
   "source": [
    "If time is sufficient, it is necessary to analyze all areas separately. Can greatly improve the credibility and accuracy of the conclusion.\n",
    "There is a major problem in this report. The accuracy of the database is sufficient. There are many restaurants that are not classified, some are classified incorrectly, and some restaurants are of multiple types but are not distinguished. These all need time to resolve."
   ]
  }
 ],
 "metadata": {
  "kernelspec": {
   "display_name": "Python 3",
   "language": "python",
   "name": "python3"
  },
  "language_info": {
   "codemirror_mode": {
    "name": "ipython",
    "version": 3
   },
   "file_extension": ".py",
   "mimetype": "text/x-python",
   "name": "python",
   "nbconvert_exporter": "python",
   "pygments_lexer": "ipython3",
   "version": "3.7.7"
  }
 },
 "nbformat": 4,
 "nbformat_minor": 4
}
